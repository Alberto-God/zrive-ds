{
 "cells": [
  {
   "cell_type": "markdown",
   "metadata": {},
   "source": [
    "Modulo 2 : Exploratory Data Analyse"
   ]
  },
  {
   "cell_type": "code",
   "execution_count": 1,
   "metadata": {},
   "outputs": [],
   "source": [
    "x = 2"
   ]
  },
  {
   "cell_type": "code",
   "execution_count": 2,
   "metadata": {},
   "outputs": [
    {
     "name": "stdout",
     "output_type": "stream",
     "text": [
      "Using version ^17.0.0 for pyarrow\n",
      "\n",
      "Updating dependencies\n",
      "Resolving dependencies...\n",
      "\n",
      "Package operations: 2 installs, 31 updates, 0 removals\n",
      "\n",
      "  - Downgrading numpy (1.26.4 -> 1.25.2)\n",
      "  - Downgrading certifi (2024.8.30 -> 2023.7.22)\n",
      "  - Downgrading charset-normalizer (3.3.2 -> 3.2.0)\n",
      "  - Downgrading click (8.1.7 -> 8.1.6)\n",
      "  - Downgrading contourpy (1.3.0 -> 1.1.0)\n",
      "  - Downgrading cycler (0.12.1 -> 0.11.0)\n",
      "  - Downgrading fonttools (4.54.1 -> 4.42.0)\n",
      "  - Downgrading idna (3.10 -> 3.4)\n",
      "  - Downgrading joblib (1.4.2 -> 1.3.2)\n",
      "  - Downgrading kiwisolver (1.4.7 -> 1.4.4)\n",
      "  - Downgrading packaging (24.1 -> 23.1)\n",
      "  - Downgrading pathspec (0.12.1 -> 0.11.2)\n",
      "  - Downgrading pillow (10.4.0 -> 10.0.0)\n",
      "  - Downgrading platformdirs (4.3.6 -> 3.10.0)\n",
      "  - Downgrading pluggy (1.5.0 -> 1.2.0)\n",
      "  - Downgrading pycodestyle (2.11.1 -> 2.11.0)\n",
      "  - Downgrading pyparsing (3.1.4 -> 3.0.9)\n",
      "  - Downgrading python-dateutil (2.9.0.post0 -> 2.8.2)\n",
      "  - Downgrading pytz (2024.2 -> 2023.3)\n",
      "  - Downgrading scipy (1.14.1 -> 1.12.0)\n",
      "  - Downgrading threadpoolctl (3.5.0 -> 3.3.0)\n",
      "  - Downgrading typing-extensions (4.12.2 -> 4.7.1)\n",
      "  - Downgrading tzdata (2024.2 -> 2023.3)\n",
      "  - Downgrading urllib3 (2.2.3 -> 2.0.4)\n",
      "  - Downgrading black (23.12.1 -> 23.7.0)\n",
      "  - Downgrading matplotlib (3.9.2 -> 3.7.2)\n",
      "  - Downgrading mypy (1.11.2 -> 1.5.1)\n",
      "  - Downgrading pandas (2.2.3 -> 2.0.3)\n",
      "  - Installing pyarrow (17.0.0)\n",
      "  - Downgrading pytest (7.4.4 -> 7.4.0)\n",
      "  - Downgrading requests (2.32.3 -> 2.31.0)\n",
      "  - Downgrading scikit-learn (1.5.2 -> 1.4.1.post1)\n",
      "  - Installing sklearn (0.0.post7)\n",
      "\n",
      "  ChefBuildError\n",
      "\n",
      "  Backend subprocess exited when trying to invoke get_requires_for_build_wheel\n",
      "  \n",
      "  The 'sklearn' PyPI package is deprecated, use 'scikit-learn'\n",
      "\n",
      "  rather than 'sklearn' for pip commands. \n",
      "\n",
      "  \n",
      "\n",
      "  Here is how to fix this error in the main use cases:\n",
      "\n",
      "  - use 'pip install scikit-learn' rather than 'pip install sklearn'\n",
      "\n",
      "  - replace 'sklearn' by 'scikit-learn' in your pip requirements files\n",
      "\n",
      "    (requirements.txt, setup.py, setup.cfg, Pipfile, etc ...)\n",
      "\n",
      "  - if the 'sklearn' package is used by one of your dependencies,\n",
      "\n",
      "    it would be great if you take some time to track which package uses\n",
      "\n",
      "    'sklearn' instead of 'scikit-learn' and report it to their issue tracker\n",
      "\n",
      "  - as a last resort, set the environment variable\n",
      "\n",
      "    SKLEARN_ALLOW_DEPRECATED_SKLEARN_PACKAGE_INSTALL=True to avoid this error\n",
      "\n",
      "  \n",
      "\n",
      "  More information is available at\n",
      "\n",
      "  https://github.com/scikit-learn/sklearn-pypi-package\n",
      "\n",
      "  \n",
      "\n",
      "  If the previous advice does not cover your use case, feel free to report it at\n",
      "\n",
      "  https://github.com/scikit-learn/sklearn-pypi-package/issues/new\n",
      "\n",
      "  \n",
      "\n",
      "  at ~\\pipx\\venvs\\poetry\\Lib\\site-packages\\poetry\\installation\\chef.py:164 in _prepare\n",
      "      160│ \n",
      "      161│                 error = ChefBuildError(\"\\n\\n\".join(message_parts))\n",
      "      162│ \n",
      "      163│             if error is not None:\n",
      "    → 164│                 raise error from None\n",
      "      165│ \n",
      "      166│             return path\n",
      "      167│ \n",
      "      168│     def _prepare_sdist(self, archive: Path, destination: Path | None = None) -> Path:\n",
      "\n",
      "Note: This error originates from the build backend, and is likely not a problem with poetry but with sklearn (0.0.post7) not supporting PEP 517 builds. You can verify this by running 'pip wheel --no-cache-dir --use-pep517 \"sklearn (==0.0.post7)\"'.\n",
      "\n"
     ]
    }
   ],
   "source": [
    "!poetry add pyarrow"
   ]
  },
  {
   "cell_type": "code",
   "execution_count": 3,
   "metadata": {},
   "outputs": [
    {
     "name": "stdout",
     "output_type": "stream",
     "text": [
      "Using version ^0.13.2 for seaborn\n",
      "\n",
      "Updating dependencies\n",
      "Resolving dependencies...\n",
      "\n",
      "Package operations: 2 installs, 0 updates, 0 removals\n",
      "\n",
      "  - Installing seaborn (0.13.2)\n",
      "  - Installing sklearn (0.0.post7)\n",
      "\n",
      "  ChefBuildError\n",
      "\n",
      "  Backend subprocess exited when trying to invoke get_requires_for_build_wheel\n",
      "  \n",
      "  The 'sklearn' PyPI package is deprecated, use 'scikit-learn'\n",
      "\n",
      "  rather than 'sklearn' for pip commands. \n",
      "\n",
      "  \n",
      "\n",
      "  Here is how to fix this error in the main use cases:\n",
      "\n",
      "  - use 'pip install scikit-learn' rather than 'pip install sklearn'\n",
      "\n",
      "  - replace 'sklearn' by 'scikit-learn' in your pip requirements files\n",
      "\n",
      "    (requirements.txt, setup.py, setup.cfg, Pipfile, etc ...)\n",
      "\n",
      "  - if the 'sklearn' package is used by one of your dependencies,\n",
      "\n",
      "    it would be great if you take some time to track which package uses\n",
      "\n",
      "    'sklearn' instead of 'scikit-learn' and report it to their issue tracker\n",
      "\n",
      "  - as a last resort, set the environment variable\n",
      "\n",
      "    SKLEARN_ALLOW_DEPRECATED_SKLEARN_PACKAGE_INSTALL=True to avoid this error\n",
      "\n",
      "  \n",
      "\n",
      "  More information is available at\n",
      "\n",
      "  https://github.com/scikit-learn/sklearn-pypi-package\n",
      "\n",
      "  \n",
      "\n",
      "  If the previous advice does not cover your use case, feel free to report it at\n",
      "\n",
      "  https://github.com/scikit-learn/sklearn-pypi-package/issues/new\n",
      "\n",
      "  \n",
      "\n",
      "  at ~\\pipx\\venvs\\poetry\\Lib\\site-packages\\poetry\\installation\\chef.py:164 in _prepare\n",
      "      160│ \n",
      "      161│                 error = ChefBuildError(\"\\n\\n\".join(message_parts))\n",
      "      162│ \n",
      "      163│             if error is not None:\n",
      "    → 164│                 raise error from None\n",
      "      165│ \n",
      "      166│             return path\n",
      "      167│ \n",
      "      168│     def _prepare_sdist(self, archive: Path, destination: Path | None = None) -> Path:\n",
      "\n",
      "Note: This error originates from the build backend, and is likely not a problem with poetry but with sklearn (0.0.post7) not supporting PEP 517 builds. You can verify this by running 'pip wheel --no-cache-dir --use-pep517 \"sklearn (==0.0.post7)\"'.\n",
      "\n"
     ]
    }
   ],
   "source": [
    "!poetry add seaborn"
   ]
  },
  {
   "cell_type": "code",
   "execution_count": 4,
   "metadata": {},
   "outputs": [],
   "source": [
    "import pandas as pd\n",
    "import matplotlib as plt\n",
    "import numpy as np\n",
    "import seaborn as sns\n",
    "\n",
    "plt.style.use(\"ggplot\")"
   ]
  },
  {
   "cell_type": "code",
   "execution_count": 5,
   "metadata": {},
   "outputs": [],
   "source": [
    "data_path = (\n",
    "    r\"C:\\Users\\Alberto\\Desktop\\Zrive\\zrive-ds\\Data set_Modulo2\"\n",
    ")"
   ]
  },
  {
   "cell_type": "code",
   "execution_count": 12,
   "metadata": {},
   "outputs": [
    {
     "name": "stderr",
     "output_type": "stream",
     "text": [
      "Traceback (most recent call last):\n",
      "  File \"c:\\Users\\Alberto\\AppData\\Local\\pypoetry\\Cache\\virtualenvs\\zrive-ds-BGhdBhXZ-py3.11\\Scripts\\aws.cmd\", line 50, in <module>\n",
      "    import awscli.clidriver\n",
      "ModuleNotFoundError: No module named 'awscli'\n"
     ]
    }
   ],
   "source": [
    "!aws s3 ls s3://zrive-ds-data/groceries/sampled-datasets/"
   ]
  },
  {
   "cell_type": "code",
   "execution_count": 13,
   "metadata": {},
   "outputs": [
    {
     "name": "stderr",
     "output_type": "stream",
     "text": [
      "Traceback (most recent call last):\n",
      "  File \"c:\\Users\\Alberto\\AppData\\Local\\pypoetry\\Cache\\virtualenvs\\zrive-ds-BGhdBhXZ-py3.11\\Scripts\\aws.cmd\", line 50, in <module>\n",
      "    import awscli.clidriver\n",
      "ModuleNotFoundError: No module named 'awscli'\n"
     ]
    }
   ],
   "source": [
    "!aws --version"
   ]
  },
  {
   "cell_type": "code",
   "execution_count": 21,
   "metadata": {},
   "outputs": [
    {
     "ename": "SyntaxError",
     "evalue": "invalid syntax (164746774.py, line 1)",
     "output_type": "error",
     "traceback": [
      "\u001b[1;36m  Cell \u001b[1;32mIn[21], line 1\u001b[1;36m\u001b[0m\n\u001b[1;33m    import .env as dt\u001b[0m\n\u001b[1;37m           ^\u001b[0m\n\u001b[1;31mSyntaxError\u001b[0m\u001b[1;31m:\u001b[0m invalid syntax\n"
     ]
    }
   ],
   "source": [
    "import os\n",
    "from dotenv import load_dotenv\n",
    "\n",
    "# Load the .env file\n",
    "load_dotenv()\n",
    "\n",
    "# Now you can access the environment variables\n",
    "aws_access_key = os.getenv('AWS_ACCESS_KEY_ID')\n",
    "aws_secret_key = os.getenv('AWS_SECRET_ACCESS_KEY')\n",
    "aws_region = os.getenv('AWS_DEFAULT_REGION')\n",
    "db_url = os.getenv('DATABASE_URL')\n",
    "\n",
    "print(f\"AWS Access Key: {aws_access_key}\")\n",
    "print(f\"AWS Secret Key: {aws_secret_key}\")\n",
    "print(f\"Default AWS Region: {aws_region}\")\n",
    "print(f\"Database URL: {db_url}\")"
   ]
  },
  {
   "cell_type": "code",
   "execution_count": 18,
   "metadata": {},
   "outputs": [],
   "source": [
    "load_dotenv()\n",
    "\n",
    "aws_access_key = os.getenv('AWS_ACCESS_KEY_ID')\n",
    "aws_secret_key = os.getenv('AWS_SECRET_ACCESS_KEY')\n",
    "aws_region = os.getenv('AWS_DEFAULT_REGION')"
   ]
  },
  {
   "cell_type": "code",
   "execution_count": 19,
   "metadata": {},
   "outputs": [
    {
     "ename": "SyntaxError",
     "evalue": "invalid syntax (1912242846.py, line 2)",
     "output_type": "error",
     "traceback": [
      "\u001b[1;36m  Cell \u001b[1;32mIn[19], line 2\u001b[1;36m\u001b[0m\n\u001b[1;33m    AWS Access Key ID: aws_access_key\u001b[0m\n\u001b[1;37m        ^\u001b[0m\n\u001b[1;31mSyntaxError\u001b[0m\u001b[1;31m:\u001b[0m invalid syntax\n"
     ]
    }
   ],
   "source": [
    "!aws configure\n",
    "AWS Access Key ID: aws_access_key\n",
    "AWS Secret Access Key: aws_secret_key\n",
    "Default region name [us-west-2]: eu-west-3\n",
    "Default output format [None]: json"
   ]
  },
  {
   "cell_type": "code",
   "execution_count": null,
   "metadata": {},
   "outputs": [],
   "source": []
  }
 ],
 "metadata": {
  "kernelspec": {
   "display_name": "zrive-ds-BGhdBhXZ-py3.11",
   "language": "python",
   "name": "python3"
  },
  "language_info": {
   "codemirror_mode": {
    "name": "ipython",
    "version": 3
   },
   "file_extension": ".py",
   "mimetype": "text/x-python",
   "name": "python",
   "nbconvert_exporter": "python",
   "pygments_lexer": "ipython3",
   "version": "3.11.0"
  }
 },
 "nbformat": 4,
 "nbformat_minor": 2
}
